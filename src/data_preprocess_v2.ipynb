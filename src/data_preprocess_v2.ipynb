{
 "cells": [
  {
   "cell_type": "code",
   "execution_count": 1,
   "id": "da448d23-daea-4d47-8f0c-515238c1ed92",
   "metadata": {},
   "outputs": [],
   "source": [
    "import pandas as pd"
   ]
  },
  {
   "cell_type": "code",
   "execution_count": 2,
   "id": "ae60d5c2-030d-492a-90e2-e5b165f9e64e",
   "metadata": {},
   "outputs": [],
   "source": [
    "# Constants\n",
    "DATA_DIR_RELATIVE_PATH = \"../data/\"\n",
    "\n",
    "DATASET_PATH = \"../../en.openfoodfacts.org.products.csv\"\n",
    "ISO_COUNTRIES_REGIONS = DATA_DIR_RELATIVE_PATH + \"ISO-3166-Countries-with-Regional-Codes.csv\""
   ]
  },
  {
   "cell_type": "code",
   "execution_count": 47,
   "id": "7a6a5fc8-01d1-4461-bb27-7c4b4549bcd9",
   "metadata": {},
   "outputs": [
    {
     "name": "stderr",
     "output_type": "stream",
     "text": [
      "/tmp/ipykernel_47469/1152776852.py:11: DtypeWarning: Columns (24,27) have mixed types. Specify dtype option on import or set low_memory=False.\n",
      "  df = pd.read_csv(\n"
     ]
    }
   ],
   "source": [
    "# Read columns, drop NaN values\n",
    "\n",
    "\n",
    "COLUMNS = [\n",
    "    \"product_name\",\n",
    "    \"origins_tags\",   # Ingredient Origin\n",
    "    \"manufacturing_places_tags\", # Manufacturing\n",
    "    \"countries_tags\", # Consumption Place\n",
    "]\n",
    "\n",
    "df = pd.read_csv(\n",
    "    DATASET_PATH,\n",
    "    usecols=COLUMNS,\n",
    "    sep=\"\\t\",\n",
    "    on_bad_lines='skip'\n",
    ").dropna(subset=COLUMNS)  # Drop rows with any NaN"
   ]
  },
  {
   "cell_type": "code",
   "execution_count": 48,
   "id": "f4bd7237-a4aa-43e9-b1de-c6102eb6217f",
   "metadata": {},
   "outputs": [
    {
     "data": {
      "text/plain": [
       "False"
      ]
     },
     "execution_count": 48,
     "metadata": {},
     "output_type": "execute_result"
    }
   ],
   "source": [
    "df[\"product_name\"].hasnans"
   ]
  },
  {
   "cell_type": "code",
   "execution_count": 49,
   "id": "bbdfeab8-916f-44f6-be1c-7ea13ffa6b6b",
   "metadata": {},
   "outputs": [
    {
     "data": {
      "text/plain": [
       "False"
      ]
     },
     "execution_count": 49,
     "metadata": {},
     "output_type": "execute_result"
    }
   ],
   "source": [
    "df[\"origins_tags\"].hasnans"
   ]
  },
  {
   "cell_type": "code",
   "execution_count": 50,
   "id": "26b5d075-2657-439f-a1f3-c87cfc54ebbd",
   "metadata": {},
   "outputs": [
    {
     "data": {
      "text/plain": [
       "False"
      ]
     },
     "execution_count": 50,
     "metadata": {},
     "output_type": "execute_result"
    }
   ],
   "source": [
    "df[\"manufacturing_places_tags\"].hasnans"
   ]
  },
  {
   "cell_type": "code",
   "execution_count": 52,
   "id": "9f1ab963-0a28-4d4f-9b29-2ae08f89f7c7",
   "metadata": {},
   "outputs": [
    {
     "data": {
      "text/plain": [
       "False"
      ]
     },
     "execution_count": 52,
     "metadata": {},
     "output_type": "execute_result"
    }
   ],
   "source": [
    "df[\"countries_tags\"].hasnans"
   ]
  }
 ],
 "metadata": {
  "kernelspec": {
   "display_name": "Python 3 (ipykernel)",
   "language": "python",
   "name": "python3"
  },
  "language_info": {
   "codemirror_mode": {
    "name": "ipython",
    "version": 3
   },
   "file_extension": ".py",
   "mimetype": "text/x-python",
   "name": "python",
   "nbconvert_exporter": "python",
   "pygments_lexer": "ipython3",
   "version": "3.11.2"
  }
 },
 "nbformat": 4,
 "nbformat_minor": 5
}
